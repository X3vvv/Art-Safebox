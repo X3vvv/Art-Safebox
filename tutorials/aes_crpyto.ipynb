{
 "cells": [
  {
   "cell_type": "code",
   "execution_count": 1,
   "metadata": {},
   "outputs": [],
   "source": [
    "import json\n",
    "import typing\n",
    "from base64 import b64encode, b64decode\n",
    "from Crypto.Cipher import AES\n",
    "from Crypto.Random import get_random_bytes\n",
    "from PIL import Image\n",
    "import io"
   ]
  },
  {
   "cell_type": "code",
   "execution_count": 2,
   "metadata": {},
   "outputs": [],
   "source": [
    "def encrypt_AES(data:bytes)->typing.Tuple[bytes, str]:\n",
    "    key = get_random_bytes(16)\n",
    "    cipher = AES.new(key, AES.MODE_CTR)\n",
    "    ct_bytes = cipher.encrypt(data)\n",
    "    nonce = b64encode(cipher.nonce).decode('utf-8')\n",
    "    ct = b64encode(ct_bytes).decode('utf-8')\n",
    "    result = json.dumps({'nonce':nonce, 'ciphertext':ct})\n",
    "    return key, result"
   ]
  },
  {
   "cell_type": "code",
   "execution_count": 3,
   "metadata": {},
   "outputs": [],
   "source": [
    "def decrypt_AES(key:bytes, json_input:str)->bytes:\n",
    "    # We assume that the key was securely shared beforehand\n",
    "    try:\n",
    "        b64 = json.loads(json_input)\n",
    "        nonce = b64decode(b64['nonce'])\n",
    "        ct = b64decode(b64['ciphertext'])\n",
    "        cipher = AES.new(key, AES.MODE_CTR, nonce=nonce)\n",
    "        pt = cipher.decrypt(ct)\n",
    "        return pt\n",
    "    except (ValueError, KeyError):\n",
    "        print(\"Incorrect decryption\")"
   ]
  },
  {
   "cell_type": "code",
   "execution_count": 4,
   "metadata": {},
   "outputs": [
    {
     "data": {
      "text/plain": [
       "(b'{\\x02`8<\\xeciQ\\x98\\xecF\\xffa\\xach\\xed', 25923)"
      ]
     },
     "execution_count": 4,
     "metadata": {},
     "output_type": "execute_result"
    }
   ],
   "source": [
    "with open('./assets/img/cat.jpg', 'rb') as f:\n",
    "    data = f.read()\n",
    "key, encrypted_json = encrypt_AES(data)\n",
    "key, len(encrypted_json)"
   ]
  },
  {
   "cell_type": "code",
   "execution_count": 5,
   "metadata": {},
   "outputs": [],
   "source": [
    "pt = decrypt_AES(key, encrypted_json)\n",
    "img = Image.open(io.BytesIO(pt))\n",
    "img.show()"
   ]
  }
 ],
 "metadata": {
  "interpreter": {
   "hash": "1d865f8c50a8a7465bae9f64718d3fdcaedb13888b94f6942bd0fba61694a0eb"
  },
  "kernelspec": {
   "display_name": "Python 3.8.13 ('crypto')",
   "language": "python",
   "name": "python3"
  },
  "language_info": {
   "codemirror_mode": {
    "name": "ipython",
    "version": 3
   },
   "file_extension": ".py",
   "mimetype": "text/x-python",
   "name": "python",
   "nbconvert_exporter": "python",
   "pygments_lexer": "ipython3",
   "version": "3.8.13"
  },
  "orig_nbformat": 4
 },
 "nbformat": 4,
 "nbformat_minor": 2
}
