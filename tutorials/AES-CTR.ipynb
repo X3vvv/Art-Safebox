{
 "cells": [
  {
   "cell_type": "code",
   "execution_count": 1,
   "metadata": {},
   "outputs": [],
   "source": [
    "import json\n",
    "from base64 import b64encode\n",
    "from Crypto.Cipher import AES\n",
    "from Crypto.Random import get_random_bytes\n",
    "\n",
    "data = b\"secret\"\n",
    "key = get_random_bytes(16)\n",
    "cipher = AES.new(key, AES.MODE_CTR)\n",
    "ct_bytes = cipher.encrypt(data)\n",
    "nonce = b64encode(cipher.nonce).decode('utf-8')\n",
    "ct = b64encode(ct_bytes).decode('utf-8')\n",
    "result = json.dumps({'nonce':nonce, 'ciphertext':ct})\n",
    "print(result)"
   ]
  },
  {
   "cell_type": "code",
   "execution_count": 6,
   "metadata": {},
   "outputs": [
    {
     "name": "stdout",
     "output_type": "stream",
     "text": [
      "The message was:  secret\n"
     ]
    }
   ],
   "source": [
    "import json\n",
    "from base64 import b64decode\n",
    "from Crypto.Cipher import AES\n",
    "# We assume that the key was securely shared beforehand\n",
    "try:\n",
    "    b64 = json.loads(result)\n",
    "    nonce = b64decode(b64['nonce'])\n",
    "    ct = b64decode(b64['ciphertext'])\n",
    "    cipher = AES.new(key, AES.MODE_CTR, nonce=nonce)\n",
    "    pt = cipher.decrypt(ct).decode('utf-8')\n",
    "    print(\"The message was: \", pt)\n",
    "except (ValueError, KeyError):\n",
    "    print(\"Incorrect decryption\")"
   ]
  }
 ],
 "metadata": {
  "interpreter": {
   "hash": "1d865f8c50a8a7465bae9f64718d3fdcaedb13888b94f6942bd0fba61694a0eb"
  },
  "kernelspec": {
   "display_name": "Python 3.8.13 ('crypto')",
   "language": "python",
   "name": "python3"
  },
  "language_info": {
   "codemirror_mode": {
    "name": "ipython",
    "version": 3
   },
   "file_extension": ".py",
   "mimetype": "text/x-python",
   "name": "python",
   "nbconvert_exporter": "python",
   "pygments_lexer": "ipython3",
   "version": "3.8.13"
  },
  "orig_nbformat": 4
 },
 "nbformat": 4,
 "nbformat_minor": 2
}
