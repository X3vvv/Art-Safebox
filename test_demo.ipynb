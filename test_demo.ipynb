{
 "cells": [
  {
   "cell_type": "code",
   "execution_count": 1,
   "metadata": {},
   "outputs": [
    {
     "name": "stdout",
     "output_type": "stream",
     "text": [
      "Images table initialized.\n",
      "Users table initialized.\n",
      "Users table initialized.\n",
      "Connect DBmanager to User, Collection and Transaction.\n"
     ]
    }
   ],
   "source": [
    "import os\n",
    "from demo import *\n",
    "\n",
    "db_file_path = \"./demo.db\"\n",
    "if os.path.exists(db_file_path):\n",
    "    os.remove(db_file_path)\n",
    "\n",
    "ctrl = Controller()"
   ]
  },
  {
   "cell_type": "code",
   "execution_count": 2,
   "metadata": {},
   "outputs": [],
   "source": [
    "# test sign up\n",
    "xav_pwd = ctrl.sign_up(\"xav\")\n",
    "eric_pwd = ctrl.sign_up(\"eric\")\n",
    "xav = ctrl._user_list[0]\n",
    "\n",
    "assert xav_pwd != None\n",
    "assert eric_pwd != None\n",
    "assert len(ctrl._user_list) == 2\n",
    "assert isinstance(xav, User)"
   ]
  },
  {
   "cell_type": "code",
   "execution_count": 3,
   "metadata": {},
   "outputs": [],
   "source": [
    "# test sign in\n",
    "assert ctrl.sign_in(\"xav\", xav_pwd) == True\n",
    "assert ctrl.sign_in(\"eric\", eric_pwd) == True"
   ]
  },
  {
   "cell_type": "code",
   "execution_count": 4,
   "metadata": {},
   "outputs": [],
   "source": [
    "# test upload\n",
    "with open(\"./assets/img/cat.jpg\", \"rb\") as f:\n",
    "    catb = f.read()\n",
    "upload_cat = ctrl.upload(\"cat\", \"xav\", catb, xav_pwd)\n",
    "assert upload_cat == True\n",
    "assert len(ctrl._collection_list) == 1\n",
    "assert len(xav.collections) == 1"
   ]
  },
  {
   "cell_type": "code",
   "execution_count": 5,
   "metadata": {},
   "outputs": [
    {
     "data": {
      "text/plain": [
       "True"
      ]
     },
     "execution_count": 5,
     "metadata": {},
     "output_type": "execute_result"
    }
   ],
   "source": [
    "# test recharge\n",
    "ctrl.recharge('xav', 12)"
   ]
  },
  {
   "cell_type": "code",
   "execution_count": null,
   "metadata": {},
   "outputs": [],
   "source": [
    "ctrl.deinit()\n",
    "print(\"Disconnect from database\")"
   ]
  },
  {
   "cell_type": "code",
   "execution_count": null,
   "metadata": {},
   "outputs": [],
   "source": [
    "User._get_aes_key()"
   ]
  }
 ],
 "metadata": {
  "interpreter": {
   "hash": "1d865f8c50a8a7465bae9f64718d3fdcaedb13888b94f6942bd0fba61694a0eb"
  },
  "kernelspec": {
   "display_name": "Python 3.8.13 ('crypto')",
   "language": "python",
   "name": "python3"
  },
  "language_info": {
   "codemirror_mode": {
    "name": "ipython",
    "version": 3
   },
   "file_extension": ".py",
   "mimetype": "text/x-python",
   "name": "python",
   "nbconvert_exporter": "python",
   "pygments_lexer": "ipython3",
   "version": "3.8.13"
  },
  "orig_nbformat": 4
 },
 "nbformat": 4,
 "nbformat_minor": 2
}
