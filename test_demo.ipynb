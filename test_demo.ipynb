{
 "cells": [
  {
   "cell_type": "code",
   "execution_count": 1,
   "metadata": {},
   "outputs": [
    {
     "name": "stdout",
     "output_type": "stream",
     "text": [
      "Images table initialized.\n",
      "Users table initialized.\n",
      "Users table initialized.\n",
      "Connect DBmanager to User, Collection and Transaction.\n"
     ]
    }
   ],
   "source": [
    "import os\n",
    "from demo import *\n",
    "\n",
    "db_file_path = \"./demo.db\"\n",
    "if os.path.exists(db_file_path):\n",
    "    os.remove(db_file_path)\n",
    "\n",
    "ctrl = Controller('./preview')"
   ]
  },
  {
   "cell_type": "code",
   "execution_count": 2,
   "metadata": {},
   "outputs": [],
   "source": [
    "# test sign up\n",
    "xav_pwd = ctrl.sign_up(\"xav\")\n",
    "eric_pwd = ctrl.sign_up(\"eric\")\n",
    "xav = ctrl._user_list[0]\n",
    "eric = ctrl._find_user('eric')\n",
    "\n",
    "assert xav_pwd != None\n",
    "assert eric_pwd != None\n",
    "assert len(ctrl._user_list) == 2\n",
    "assert isinstance(xav, User)"
   ]
  },
  {
   "cell_type": "code",
   "execution_count": 3,
   "metadata": {},
   "outputs": [],
   "source": [
    "# test sign in\n",
    "assert ctrl.sign_in(\"xav\", xav_pwd) == True\n",
    "assert ctrl.sign_in(\"eric\", eric_pwd) == True"
   ]
  },
  {
   "cell_type": "code",
   "execution_count": 4,
   "metadata": {},
   "outputs": [],
   "source": [
    "# test upload\n",
    "with open(\"./assets/img/cat.jpg\", \"rb\") as f:\n",
    "    catb = f.read()\n",
    "upload_cat = ctrl.upload(\"cat.jpg\", \"xav\", catb, xav_pwd)\n",
    "assert upload_cat == True\n",
    "assert len(ctrl._collection_list) == 1\n",
    "assert len(xav.collections) == 1"
   ]
  },
  {
   "cell_type": "code",
   "execution_count": 5,
   "metadata": {},
   "outputs": [
    {
     "data": {
      "text/plain": [
       "True"
      ]
     },
     "execution_count": 5,
     "metadata": {},
     "output_type": "execute_result"
    }
   ],
   "source": [
    "# test recharge\n",
    "ctrl.recharge('xav', 12)"
   ]
  },
  {
   "cell_type": "code",
   "execution_count": 6,
   "metadata": {},
   "outputs": [
    {
     "ename": "TypeError",
     "evalue": "update_collection() got multiple values for argument 'collection_id'",
     "output_type": "error",
     "traceback": [
      "\u001b[1;31m---------------------------------------------------------------------------\u001b[0m",
      "\u001b[1;31mTypeError\u001b[0m                                 Traceback (most recent call last)",
      "\u001b[1;32md:\\OneDrive - The Hong Kong Polytechnic University\\Interests\\cloud_Codes\\github_repos\\NFT-exchange-platform\\test_demo.ipynb Cell 6'\u001b[0m in \u001b[0;36m<cell line: 1>\u001b[1;34m()\u001b[0m\n\u001b[1;32m----> <a href='vscode-notebook-cell:/d%3A/OneDrive%20-%20The%20Hong%20Kong%20Polytechnic%20University/Interests/cloud_Codes/github_repos/NFT-exchange-platform/test_demo.ipynb#ch0000010?line=0'>1</a>\u001b[0m ctrl\u001b[39m.\u001b[39;49mbuy(\u001b[39m'\u001b[39;49m\u001b[39meric\u001b[39;49m\u001b[39m'\u001b[39;49m, \u001b[39m'\u001b[39;49m\u001b[39mcat.jpg\u001b[39;49m\u001b[39m'\u001b[39;49m, xav_pwd)\n",
      "File \u001b[1;32md:\\OneDrive - The Hong Kong Polytechnic University\\Interests\\cloud_Codes\\github_repos\\NFT-exchange-platform\\demo.py:1095\u001b[0m, in \u001b[0;36mController.buy\u001b[1;34m(self, buyer_id, collection_id, priv_key)\u001b[0m\n\u001b[0;32m   <a href='file:///d%3A/OneDrive%20-%20The%20Hong%20Kong%20Polytechnic%20University/Interests/cloud_Codes/github_repos/NFT-exchange-platform/demo.py?line=1092'>1093</a>\u001b[0m owner\u001b[39m.\u001b[39madd_transaction(buy_request)\n\u001b[0;32m   <a href='file:///d%3A/OneDrive%20-%20The%20Hong%20Kong%20Polytechnic%20University/Interests/cloud_Codes/github_repos/NFT-exchange-platform/demo.py?line=1093'>1094</a>\u001b[0m \u001b[39mself\u001b[39m\u001b[39m.\u001b[39m_add_transaction(buy_request)\n\u001b[1;32m-> <a href='file:///d%3A/OneDrive%20-%20The%20Hong%20Kong%20Polytechnic%20University/Interests/cloud_Codes/github_repos/NFT-exchange-platform/demo.py?line=1094'>1095</a>\u001b[0m \u001b[39mself\u001b[39;49m\u001b[39m.\u001b[39;49m_accept_a_request(buy_request, collection, buyer, owner, priv_key)\n",
      "File \u001b[1;32md:\\OneDrive - The Hong Kong Polytechnic University\\Interests\\cloud_Codes\\github_repos\\NFT-exchange-platform\\demo.py:1434\u001b[0m, in \u001b[0;36mController._accept_a_request\u001b[1;34m(self, transaction, collection, buyer, seller, priv_key)\u001b[0m\n\u001b[0;32m   <a href='file:///d%3A/OneDrive%20-%20The%20Hong%20Kong%20Polytechnic%20University/Interests/cloud_Codes/github_repos/NFT-exchange-platform/demo.py?line=1431'>1432</a>\u001b[0m     \u001b[39mself\u001b[39m\u001b[39m.\u001b[39m_reject_a_request(req, collection, buyer, seller)\n\u001b[0;32m   <a href='file:///d%3A/OneDrive%20-%20The%20Hong%20Kong%20Polytechnic%20University/Interests/cloud_Codes/github_repos/NFT-exchange-platform/demo.py?line=1432'>1433</a>\u001b[0m \u001b[39m# update collection's owner\u001b[39;00m\n\u001b[1;32m-> <a href='file:///d%3A/OneDrive%20-%20The%20Hong%20Kong%20Polytechnic%20University/Interests/cloud_Codes/github_repos/NFT-exchange-platform/demo.py?line=1433'>1434</a>\u001b[0m collection\u001b[39m.\u001b[39;49mupdate_owner(seller, buyer, priv_key)\n\u001b[0;32m   <a href='file:///d%3A/OneDrive%20-%20The%20Hong%20Kong%20Polytechnic%20University/Interests/cloud_Codes/github_repos/NFT-exchange-platform/demo.py?line=1434'>1435</a>\u001b[0m \u001b[39m# send notification to both buyer and owner\u001b[39;00m\n\u001b[0;32m   <a href='file:///d%3A/OneDrive%20-%20The%20Hong%20Kong%20Polytechnic%20University/Interests/cloud_Codes/github_repos/NFT-exchange-platform/demo.py?line=1435'>1436</a>\u001b[0m \u001b[39mself\u001b[39m\u001b[39m.\u001b[39m_send_result_notice_of_buy_request(\n\u001b[0;32m   <a href='file:///d%3A/OneDrive%20-%20The%20Hong%20Kong%20Polytechnic%20University/Interests/cloud_Codes/github_repos/NFT-exchange-platform/demo.py?line=1436'>1437</a>\u001b[0m     collection\u001b[39m.\u001b[39mid,\n\u001b[0;32m   <a href='file:///d%3A/OneDrive%20-%20The%20Hong%20Kong%20Polytechnic%20University/Interests/cloud_Codes/github_repos/NFT-exchange-platform/demo.py?line=1437'>1438</a>\u001b[0m     buyer,\n\u001b[1;32m   (...)\u001b[0m\n\u001b[0;32m   <a href='file:///d%3A/OneDrive%20-%20The%20Hong%20Kong%20Polytechnic%20University/Interests/cloud_Codes/github_repos/NFT-exchange-platform/demo.py?line=1440'>1441</a>\u001b[0m     \u001b[39m\"\u001b[39m\u001b[39mbuying request for \u001b[39m\u001b[39m{}\u001b[39;00m\u001b[39m is accepted\u001b[39m\u001b[39m\"\u001b[39m\u001b[39m.\u001b[39mformat(collection\u001b[39m.\u001b[39mid),\n\u001b[0;32m   <a href='file:///d%3A/OneDrive%20-%20The%20Hong%20Kong%20Polytechnic%20University/Interests/cloud_Codes/github_repos/NFT-exchange-platform/demo.py?line=1441'>1442</a>\u001b[0m )\n",
      "File \u001b[1;32md:\\OneDrive - The Hong Kong Polytechnic University\\Interests\\cloud_Codes\\github_repos\\NFT-exchange-platform\\demo.py:798\u001b[0m, in \u001b[0;36mCollection.update_owner\u001b[1;34m(self, old_owner, new_owner, priv_key)\u001b[0m\n\u001b[0;32m    <a href='file:///d%3A/OneDrive%20-%20The%20Hong%20Kong%20Polytechnic%20University/Interests/cloud_Codes/github_repos/NFT-exchange-platform/demo.py?line=795'>796</a>\u001b[0m \u001b[39m# 1. change collection's owner_id\u001b[39;00m\n\u001b[0;32m    <a href='file:///d%3A/OneDrive%20-%20The%20Hong%20Kong%20Polytechnic%20University/Interests/cloud_Codes/github_repos/NFT-exchange-platform/demo.py?line=796'>797</a>\u001b[0m \u001b[39mself\u001b[39m\u001b[39m.\u001b[39mowner_id \u001b[39m=\u001b[39m new_owner\u001b[39m.\u001b[39mid\n\u001b[1;32m--> <a href='file:///d%3A/OneDrive%20-%20The%20Hong%20Kong%20Polytechnic%20University/Interests/cloud_Codes/github_repos/NFT-exchange-platform/demo.py?line=797'>798</a>\u001b[0m \u001b[39mself\u001b[39;49m\u001b[39m.\u001b[39;49mupdate_db(owner_id\u001b[39m=\u001b[39;49mnew_owner\u001b[39m.\u001b[39;49mid)\n\u001b[0;32m    <a href='file:///d%3A/OneDrive%20-%20The%20Hong%20Kong%20Polytechnic%20University/Interests/cloud_Codes/github_repos/NFT-exchange-platform/demo.py?line=798'>799</a>\u001b[0m \u001b[39m# 2. decrypt collection's encrypted_content and get raw data\u001b[39;00m\n\u001b[0;32m    <a href='file:///d%3A/OneDrive%20-%20The%20Hong%20Kong%20Polytechnic%20University/Interests/cloud_Codes/github_repos/NFT-exchange-platform/demo.py?line=799'>800</a>\u001b[0m _, aes_key \u001b[39m=\u001b[39m old_owner\u001b[39m.\u001b[39mdecrypt_validation_file(priv_key)\n",
      "File \u001b[1;32md:\\OneDrive - The Hong Kong Polytechnic University\\Interests\\cloud_Codes\\github_repos\\NFT-exchange-platform\\demo.py:770\u001b[0m, in \u001b[0;36mCollection.update_db\u001b[1;34m(self, owner_id, price, encrypted_content, preview, status)\u001b[0m\n\u001b[0;32m    <a href='file:///d%3A/OneDrive%20-%20The%20Hong%20Kong%20Polytechnic%20University/Interests/cloud_Codes/github_repos/NFT-exchange-platform/demo.py?line=761'>762</a>\u001b[0m \u001b[39mdef\u001b[39;00m \u001b[39mupdate_db\u001b[39m(\n\u001b[0;32m    <a href='file:///d%3A/OneDrive%20-%20The%20Hong%20Kong%20Polytechnic%20University/Interests/cloud_Codes/github_repos/NFT-exchange-platform/demo.py?line=762'>763</a>\u001b[0m     \u001b[39mself\u001b[39m,\n\u001b[0;32m    <a href='file:///d%3A/OneDrive%20-%20The%20Hong%20Kong%20Polytechnic%20University/Interests/cloud_Codes/github_repos/NFT-exchange-platform/demo.py?line=763'>764</a>\u001b[0m     owner_id\u001b[39m=\u001b[39m\u001b[39mNone\u001b[39;00m,\n\u001b[1;32m   (...)\u001b[0m\n\u001b[0;32m    <a href='file:///d%3A/OneDrive%20-%20The%20Hong%20Kong%20Polytechnic%20University/Interests/cloud_Codes/github_repos/NFT-exchange-platform/demo.py?line=767'>768</a>\u001b[0m     status\u001b[39m=\u001b[39m\u001b[39mNone\u001b[39;00m,\n\u001b[0;32m    <a href='file:///d%3A/OneDrive%20-%20The%20Hong%20Kong%20Polytechnic%20University/Interests/cloud_Codes/github_repos/NFT-exchange-platform/demo.py?line=768'>769</a>\u001b[0m ):\n\u001b[1;32m--> <a href='file:///d%3A/OneDrive%20-%20The%20Hong%20Kong%20Polytechnic%20University/Interests/cloud_Codes/github_repos/NFT-exchange-platform/demo.py?line=769'>770</a>\u001b[0m     \u001b[39mself\u001b[39;49m\u001b[39m.\u001b[39;49mdb\u001b[39m.\u001b[39;49mupdate_collection(\n\u001b[0;32m    <a href='file:///d%3A/OneDrive%20-%20The%20Hong%20Kong%20Polytechnic%20University/Interests/cloud_Codes/github_repos/NFT-exchange-platform/demo.py?line=770'>771</a>\u001b[0m         \u001b[39mself\u001b[39;49m\u001b[39m.\u001b[39;49mid,\n\u001b[0;32m    <a href='file:///d%3A/OneDrive%20-%20The%20Hong%20Kong%20Polytechnic%20University/Interests/cloud_Codes/github_repos/NFT-exchange-platform/demo.py?line=771'>772</a>\u001b[0m         collection_id\u001b[39m=\u001b[39;49m\u001b[39mself\u001b[39;49m\u001b[39m.\u001b[39;49mid,\n\u001b[0;32m    <a href='file:///d%3A/OneDrive%20-%20The%20Hong%20Kong%20Polytechnic%20University/Interests/cloud_Codes/github_repos/NFT-exchange-platform/demo.py?line=772'>773</a>\u001b[0m         owner_id\u001b[39m=\u001b[39;49mowner_id,\n\u001b[0;32m    <a href='file:///d%3A/OneDrive%20-%20The%20Hong%20Kong%20Polytechnic%20University/Interests/cloud_Codes/github_repos/NFT-exchange-platform/demo.py?line=773'>774</a>\u001b[0m         price\u001b[39m=\u001b[39;49mprice,\n\u001b[0;32m    <a href='file:///d%3A/OneDrive%20-%20The%20Hong%20Kong%20Polytechnic%20University/Interests/cloud_Codes/github_repos/NFT-exchange-platform/demo.py?line=774'>775</a>\u001b[0m         encrypted_content\u001b[39m=\u001b[39;49mencrypted_content,\n\u001b[0;32m    <a href='file:///d%3A/OneDrive%20-%20The%20Hong%20Kong%20Polytechnic%20University/Interests/cloud_Codes/github_repos/NFT-exchange-platform/demo.py?line=775'>776</a>\u001b[0m         preview\u001b[39m=\u001b[39;49mpreview,\n\u001b[0;32m    <a href='file:///d%3A/OneDrive%20-%20The%20Hong%20Kong%20Polytechnic%20University/Interests/cloud_Codes/github_repos/NFT-exchange-platform/demo.py?line=776'>777</a>\u001b[0m         status\u001b[39m=\u001b[39;49mstatus,\n\u001b[0;32m    <a href='file:///d%3A/OneDrive%20-%20The%20Hong%20Kong%20Polytechnic%20University/Interests/cloud_Codes/github_repos/NFT-exchange-platform/demo.py?line=777'>778</a>\u001b[0m     )\n",
      "\u001b[1;31mTypeError\u001b[0m: update_collection() got multiple values for argument 'collection_id'"
     ]
    }
   ],
   "source": [
    "ctrl.buy('eric', 'cat.jpg', xav_pwd)"
   ]
  },
  {
   "cell_type": "code",
   "execution_count": null,
   "metadata": {},
   "outputs": [],
   "source": [
    "xav.transactions"
   ]
  },
  {
   "cell_type": "code",
   "execution_count": null,
   "metadata": {},
   "outputs": [],
   "source": [
    "ctrl.store_all_preview_to_local()"
   ]
  },
  {
   "cell_type": "code",
   "execution_count": null,
   "metadata": {},
   "outputs": [],
   "source": [
    "eric.transactions"
   ]
  },
  {
   "cell_type": "code",
   "execution_count": null,
   "metadata": {},
   "outputs": [],
   "source": [
    "# Main(ctrl)\n",
    "# backend_requests['signup-123']=['kkk']\n",
    "# backend_requests['recharge-123']=['kkk', 123]\n",
    "# Main.start()"
   ]
  },
  {
   "cell_type": "code",
   "execution_count": null,
   "metadata": {},
   "outputs": [],
   "source": []
  },
  {
   "cell_type": "code",
   "execution_count": null,
   "metadata": {},
   "outputs": [],
   "source": [
    "# ctrl.response('xav', xav.transactions[1], False, xav_pwd)"
   ]
  },
  {
   "cell_type": "code",
   "execution_count": null,
   "metadata": {},
   "outputs": [],
   "source": [
    "ctrl.deinit()\n",
    "print(\"Disconnect from database\")"
   ]
  }
 ],
 "metadata": {
  "interpreter": {
   "hash": "1d865f8c50a8a7465bae9f64718d3fdcaedb13888b94f6942bd0fba61694a0eb"
  },
  "kernelspec": {
   "display_name": "Python 3.8.13 ('crypto')",
   "language": "python",
   "name": "python3"
  },
  "language_info": {
   "codemirror_mode": {
    "name": "ipython",
    "version": 3
   },
   "file_extension": ".py",
   "mimetype": "text/x-python",
   "name": "python",
   "nbconvert_exporter": "python",
   "pygments_lexer": "ipython3",
   "version": "3.8.13"
  },
  "orig_nbformat": 4
 },
 "nbformat": 4,
 "nbformat_minor": 2
}
