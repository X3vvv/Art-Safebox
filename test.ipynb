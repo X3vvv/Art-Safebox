{
 "cells": [
  {
   "cell_type": "code",
   "execution_count": 1,
   "metadata": {},
   "outputs": [
    {
     "name": "stdout",
     "output_type": "stream",
     "text": [
      "10\n",
      "10\n",
      "10\n",
      "40\n",
      "20\n",
      "15\n",
      "40\n",
      "20\n",
      "15\n",
      "40\n",
      "15\n"
     ]
    }
   ],
   "source": [
    "class A(object):\n",
    "    va = 10\n",
    "\n",
    "    def foo(self):\n",
    "        print(A.va)\n",
    "        print(self.va)\n",
    "\n",
    "        self.va = 40\n",
    "        print(A.va)\n",
    "        print(self.va)\n",
    "\n",
    "        va = 20\n",
    "        print(va)\n",
    "\n",
    "        A.va = 15\n",
    "        print(A.va)\n",
    "        print(self.va)\n",
    "        print(va)\n",
    "\n",
    "# Script starts from here\n",
    "\n",
    "obj1 = A()\n",
    "obj2 = A()\n",
    "obj1.foo()\n",
    "print(A.va)\n",
    "print(obj1.va)\n",
    "print(obj2.va)"
   ]
  }
 ],
 "metadata": {
  "interpreter": {
   "hash": "7280fd4b02f0a7fd8f9d02d2e480cdba4a6c31f1f568d35ddf3d667ef85447c5"
  },
  "kernelspec": {
   "display_name": "Python 3.9.7 ('base')",
   "language": "python",
   "name": "python3"
  },
  "language_info": {
   "codemirror_mode": {
    "name": "ipython",
    "version": 3
   },
   "file_extension": ".py",
   "mimetype": "text/x-python",
   "name": "python",
   "nbconvert_exporter": "python",
   "pygments_lexer": "ipython3",
   "version": "3.9.7"
  },
  "orig_nbformat": 4
 },
 "nbformat": 4,
 "nbformat_minor": 2
}
