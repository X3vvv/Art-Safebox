{
 "cells": [
  {
   "cell_type": "code",
   "execution_count": 26,
   "metadata": {},
   "outputs": [],
   "source": [
    "import time"
   ]
  },
  {
   "cell_type": "code",
   "execution_count": 30,
   "metadata": {},
   "outputs": [
    {
     "data": {
      "text/plain": [
       "(1649892954.3279886,\n",
       " 1649892954327988800,\n",
       " 1649892954327988800,\n",
       " 1649892954327988800)"
      ]
     },
     "execution_count": 30,
     "metadata": {},
     "output_type": "execute_result"
    }
   ],
   "source": [
    "time.time(), time.time_ns(), time.time_ns(), time.time_ns()"
   ]
  },
  {
   "cell_type": "code",
   "execution_count": 31,
   "metadata": {},
   "outputs": [
    {
     "name": "stdout",
     "output_type": "stream",
     "text": [
      "1649892975781007000\n",
      "1649892975781007000\n",
      "1649892975781007000\n",
      "1649892975781007000\n",
      "1649892975781007000\n",
      "1649892975781007000\n",
      "1649892975781007000\n",
      "1649892975781007000\n",
      "1649892975781007000\n",
      "1649892975781007000\n",
      "1649892975781007000\n",
      "1649892975781007000\n",
      "1649892975781007000\n",
      "1649892975781007000\n",
      "1649892975781007000\n",
      "1649892975781007000\n",
      "1649892975781007000\n",
      "1649892975781992700\n",
      "1649892975781992700\n",
      "1649892975781992700\n"
     ]
    }
   ],
   "source": [
    "for i in range(20):\n",
    "    print(time.time_ns())"
   ]
  }
 ],
 "metadata": {
  "interpreter": {
   "hash": "7280fd4b02f0a7fd8f9d02d2e480cdba4a6c31f1f568d35ddf3d667ef85447c5"
  },
  "kernelspec": {
   "display_name": "Python 3.9.7 ('base')",
   "language": "python",
   "name": "python3"
  },
  "language_info": {
   "codemirror_mode": {
    "name": "ipython",
    "version": 3
   },
   "file_extension": ".py",
   "mimetype": "text/x-python",
   "name": "python",
   "nbconvert_exporter": "python",
   "pygments_lexer": "ipython3",
   "version": "3.9.7"
  },
  "orig_nbformat": 4
 },
 "nbformat": 4,
 "nbformat_minor": 2
}
