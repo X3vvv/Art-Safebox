{
 "cells": [
  {
   "cell_type": "markdown",
   "metadata": {},
   "source": [
    "# project\n",
    "\n",
    "## project的三个需求\n",
    "1. 表示数字艺术品\n",
    "2. 存储数字艺术品\n",
    "3. 交换数字艺术品\n",
    "\n",
    "## 安全需求分析\n",
    "1. 需要记录用户和用户拥有的艺术品\n",
    "    - 需要将用户和用户的独特签名对应起来\n",
    "    - 需要在艺术品的存储中添加用户的独特签名\n",
    "    - 将签名添加到艺术品的算法需要加密，防止攻击者修改艺术品数据内的独特签名\n",
    "    \n",
    "2. 数据交换\n",
    "    - 交换艺术品时，需要将交换的请求加密，防止被中途修改\n",
    "    - ACID原则\n",
    "        - 原子性（A）：一个事务的所有系列操作步骤被看成一个动作，所有的步骤要么全部完成，要么一个也不会完成。如果在事务过程中发生错误，则会回滚到事务开始前的状态，将要被改变的数据库记录不会被改变。\n",
    "        - 一致性（C）：一致性是指在事务开始之前和事务结束以后，数据库的完整性约束没有被破坏，即数据库事务不能破坏关系数据的完整性及业务逻辑上的一致性。\n",
    "        - 隔离性（I）：主要用于实现并发控制，隔离能够确保并发执行的事务按顺序一个接一个地执行。通过隔离，一个未完成事务不会影响另外一个未完成事务。\n",
    "        - 持久性（D）：一旦一个事务被提交，它应该持久保存，不会因为与其他操作冲突而取消这个事务。\n",
    "\n",
    "3. 数据存储的安全性\n",
    "    - NFT的不可篡改性依靠区块链的安全特性来实现。这里，我们将区块链替换为了一般的数据库，这将使平台失去去中心化的优势。为了仍然保障安全性，需要做出以下假设：\n",
    "        - 部署数据库的设备不会被攻破\n",
    "        - 数据库管理员的密码不会被泄露\n",
    "        - 数据库管理员不会恶意修改数据库\n",
    "\n",
    "4. 需要保护所有用户的独特签名\n",
    "\n",
    "## 重要reference\n",
    "- [中泰证券NFT技术分析](https://dfscdn.dfcfw.com/download/A2_cms_f_20220216123508144922&direct=1&abc3847.pdf)\n",
    "- [我的总结（祥见参考列表） - csdn](https://blog.csdn.net/weixin_39591031/article/details/124138855)\n"
   ]
  },
  {
   "cell_type": "code",
   "execution_count": 21,
   "metadata": {},
   "outputs": [],
   "source": [
    "import time\n",
    "import rsa"
   ]
  },
  {
   "cell_type": "code",
   "execution_count": 22,
   "metadata": {},
   "outputs": [],
   "source": [
    "(pubkey, privkey) = rsa.newkeys(1024)"
   ]
  },
  {
   "cell_type": "code",
   "execution_count": 1,
   "metadata": {},
   "outputs": [
    {
     "ename": "NameError",
     "evalue": "name 'pubkey' is not defined",
     "output_type": "error",
     "traceback": [
      "\u001B[0;31m---------------------------------------------------------------------------\u001B[0m",
      "\u001B[0;31mNameError\u001B[0m                                 Traceback (most recent call last)",
      "Input \u001B[0;32mIn [1]\u001B[0m, in \u001B[0;36m<cell line: 1>\u001B[0;34m()\u001B[0m\n\u001B[0;32m----> 1\u001B[0m pub \u001B[38;5;241m=\u001B[39m \u001B[43mpubkey\u001B[49m\u001B[38;5;241m.\u001B[39msave_pkcs1()\n\u001B[1;32m      2\u001B[0m pubkey, pub\n",
      "\u001B[0;31mNameError\u001B[0m: name 'pubkey' is not defined"
     ]
    }
   ],
   "source": [
    "pub = pubkey.save_pkcs1()\n",
    "pubkey, pub"
   ]
  },
  {
   "cell_type": "code",
   "execution_count": 15,
   "metadata": {},
   "outputs": [],
   "source": [
    "class User:\n",
    "    def __init__(self):\n",
    "        # generate unique user signature\n",
    "        self.signature = self.gen_signature()\n",
    "        self.keys = self.gen_keys()\n",
    "        self.image_list = self.get_image_list()\n",
    "    \n",
    "    @staticmethod\n",
    "    def gen_signature(self):\n",
    "        return round(time.time() * 10000000)\n",
    "\n",
    "    def gen_keys(self):\n",
    "        keys = {}\n",
    "        keys['RSA_priv'] = 0\n",
    "        keys['RSA_pub'] = 0\n",
    "        keys['ARS_priv'] = 0\n",
    "        keys['ARS_pub'] = 0\n",
    "\n",
    "    def get_image_list(self):\n",
    "        # retrieve user's images from database\n",
    "        pass"
   ]
  },
  {
   "cell_type": "code",
   "execution_count": 17,
   "metadata": {},
   "outputs": [],
   "source": [
    "xav = User()"
   ]
  },
  {
   "cell_type": "code",
   "execution_count": 18,
   "metadata": {},
   "outputs": [
    {
     "data": {
      "text/plain": [
       "16497800606401128"
      ]
     },
     "execution_count": 18,
     "metadata": {},
     "output_type": "execute_result"
    }
   ],
   "source": [
    "xav.signature\n"
   ]
  }
 ],
 "metadata": {
  "interpreter": {
   "hash": "7280fd4b02f0a7fd8f9d02d2e480cdba4a6c31f1f568d35ddf3d667ef85447c5"
  },
  "kernelspec": {
   "display_name": "Python 3.9.7 ('base')",
   "language": "python",
   "name": "python3"
  },
  "language_info": {
   "codemirror_mode": {
    "name": "ipython",
    "version": 3
   },
   "file_extension": ".py",
   "mimetype": "text/x-python",
   "name": "python",
   "nbconvert_exporter": "python",
   "pygments_lexer": "ipython3",
   "version": "3.9.7"
  },
  "orig_nbformat": 4
 },
 "nbformat": 4,
 "nbformat_minor": 2
}